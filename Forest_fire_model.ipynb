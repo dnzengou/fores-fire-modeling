{
  "nbformat": 4,
  "nbformat_minor": 0,
  "metadata": {
    "colab": {
      "name": "Forest-fire-model.ipynb",
      "provenance": []
    },
    "kernelspec": {
      "name": "python3",
      "display_name": "Python 3"
    }
  },
  "cells": [
    {
      "cell_type": "markdown",
      "metadata": {
        "id": "_DS5erQMydop"
      },
      "source": [
        "## The Forest-fire model"
      ]
    },
    {
      "cell_type": "markdown",
      "metadata": {
        "id": "y2x1vmPjydsl"
      },
      "source": [
        "[github](https://github.com/scipython/scipython-maths/tree/master/forest_fire)\r\n",
        "[scipython](https://scipython.com/blog/the-forest-fire-model/)"
      ]
    },
    {
      "cell_type": "code",
      "metadata": {
        "colab": {
          "base_uri": "https://localhost:8080/",
          "height": 426
        },
        "id": "5ACNAs44yYWs",
        "outputId": "092c03eb-73fb-405d-d69e-51115f477b89"
      },
      "source": [
        "import numpy as np\r\n",
        "import matplotlib.pyplot as plt\r\n",
        "from matplotlib import animation\r\n",
        "from matplotlib import colors\r\n",
        "\r\n",
        "# Create a forest fire animation based on a simple cellular automaton model.\r\n",
        "# The maths behind this code is described in the scipython blog article\r\n",
        "# at https://scipython.com/blog/the-forest-fire-model/\r\n",
        "# Christian Hill, January 2016.\r\n",
        "# Updated January 2020.\r\n",
        "\r\n",
        "# Displacements from a cell to its eight nearest neighbours\r\n",
        "neighbourhood = ((-1,-1), (-1,0), (-1,1), (0,-1), (0, 1), (1,-1), (1,0), (1,1))\r\n",
        "EMPTY, TREE, FIRE = 0, 1, 2\r\n",
        "# Colours for visualization: brown for EMPTY, dark green for TREE and orange\r\n",
        "# for FIRE. Note that for the colormap to work, this list and the bounds list\r\n",
        "# must be one larger than the number of different values in the array.\r\n",
        "colors_list = [(0.2,0,0), (0,0.5,0), (1,0,0), 'orange']\r\n",
        "cmap = colors.ListedColormap(colors_list)\r\n",
        "bounds = [0,1,2,3]\r\n",
        "norm = colors.BoundaryNorm(bounds, cmap.N)\r\n",
        "\r\n",
        "def iterate(X):\r\n",
        "    \"\"\"Iterate the forest according to the forest-fire rules.\"\"\"\r\n",
        "\r\n",
        "    # The boundary of the forest is always empty, so only consider cells\r\n",
        "    # indexed from 1 to nx-2, 1 to ny-2\r\n",
        "    X1 = np.zeros((ny, nx))\r\n",
        "    for ix in range(1,nx-1):\r\n",
        "        for iy in range(1,ny-1):\r\n",
        "            if X[iy,ix] == EMPTY and np.random.random() <= p:\r\n",
        "                X1[iy,ix] = TREE\r\n",
        "            if X[iy,ix] == TREE:\r\n",
        "                X1[iy,ix] = TREE\r\n",
        "                for dx,dy in neighbourhood:\r\n",
        "                    # The diagonally-adjacent trees are further away, so\r\n",
        "                    # only catch fire with a reduced probability:\r\n",
        "                    if abs(dx) == abs(dy) and np.random.random() < 0.573:\r\n",
        "                        continue\r\n",
        "                    if X[iy+dy,ix+dx] == FIRE:\r\n",
        "                        X1[iy,ix] = FIRE\r\n",
        "                        break\r\n",
        "                else:\r\n",
        "                    if np.random.random() <= f:\r\n",
        "                        X1[iy,ix] = FIRE\r\n",
        "    return X1\r\n",
        "\r\n",
        "# The initial fraction of the forest occupied by trees.\r\n",
        "forest_fraction = 0.2\r\n",
        "# Probability of new tree growth per empty cell, and of lightning strike.\r\n",
        "p, f = 0.05, 0.0001\r\n",
        "# Forest size (number of cells in x and y directions).\r\n",
        "nx, ny = 100, 100\r\n",
        "# Initialize the forest grid.\r\n",
        "X  = np.zeros((ny, nx))\r\n",
        "X[1:ny-1, 1:nx-1] = np.random.randint(0, 2, size=(ny-2, nx-2))\r\n",
        "X[1:ny-1, 1:nx-1] = np.random.random(size=(ny-2, nx-2)) < forest_fraction\r\n",
        "\r\n",
        "fig = plt.figure(figsize=(25/3, 6.25))\r\n",
        "ax = fig.add_subplot(111)\r\n",
        "ax.set_axis_off()\r\n",
        "im = ax.imshow(X, cmap=cmap, norm=norm)#, interpolation='nearest')\r\n",
        "\r\n",
        "# The animation function: called to produce a frame for each generation.\r\n",
        "def animate(i):\r\n",
        "    im.set_data(animate.X)\r\n",
        "    animate.X = iterate(animate.X)\r\n",
        "# Bind our grid to the identifier X in the animate function's namespace.\r\n",
        "animate.X = X\r\n",
        "\r\n",
        "# Interval between frames (ms).\r\n",
        "interval = 100\r\n",
        "anim = animation.FuncAnimation(fig, animate, interval=interval, frames=200)\r\n",
        "plt.show()"
      ],
      "execution_count": 1,
      "outputs": [
        {
          "output_type": "stream",
          "text": [
            "/usr/local/lib/python3.7/dist-packages/matplotlib/colors.py:263: VisibleDeprecationWarning: Creating an ndarray from ragged nested sequences (which is a list-or-tuple of lists-or-tuples-or ndarrays with different lengths or shapes) is deprecated. If you meant to do this, you must specify 'dtype=object' when creating the ndarray\n",
            "  c = np.array(c)\n"
          ],
          "name": "stderr"
        },
        {
          "output_type": "display_data",
          "data": {
            "image/png": "[encoded data removed]",
            "text/plain": [
              "<Figure size 600x450 with 1 Axes>"
            ]
          },
          "metadata": {
            "tags": [],
            "needs_background": "light"
          }
        }
      ]
    }
  ]
}